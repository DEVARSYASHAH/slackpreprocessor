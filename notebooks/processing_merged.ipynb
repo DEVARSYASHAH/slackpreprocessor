{
 "cells": [
  {
   "cell_type": "code",
   "execution_count": 7,
   "metadata": {},
   "outputs": [
    {
     "data": {
      "text/plain": [
       "Index(['id', 'created', 'name', 'title', 'mimetype', 'filetype', 'pretty_type',\n",
       "       'user', 'editable', 'size',\n",
       "       ...\n",
       "       'x_files', 'document_unfurl.is_unfurled',\n",
       "       'document_unfurl.canvas_unfurl_state', 'document_comment.thread_id',\n",
       "       'document_comment.authors', 'document_comment.section_edited_ts',\n",
       "       'document_comment.section_created_ts', 'document_comment.is_archived',\n",
       "       'document_comment.is_visible', 'document_comment.most_recent_editor'],\n",
       "      dtype='object', length=151)"
      ]
     },
     "execution_count": 7,
     "metadata": {},
     "output_type": "execute_result"
    }
   ],
   "source": [
    "import pandas as pd\n",
    "\n",
    "# Read the CSV file\n",
    "df = pd.read_csv('../data3/csv/normal1.csv')\n",
    "\n",
    "# Display the DataFrame\n",
    "df.columns\n"
   ]
  },
  {
   "cell_type": "code",
   "execution_count": 5,
   "metadata": {},
   "outputs": [
    {
     "name": "stdout",
     "output_type": "stream",
     "text": [
      "The name of the channel with id C05RLN05Z3P is product-management\n",
      "The name of the channel with id C05RPGMLE83 is random\n",
      "The name of the channel with id C05SCKCMV5E is general\n",
      "The name of the channel with id C05SCLAJUP2 is FC:F05SCLAJUP2:Something that needs to get\n",
      "The name of the channel with id C05TUBQF29M is FC:F05TUBQF29M:Important links\n",
      "The name of the channel with id C05RSJWSZ1A is FC:F05RSJWSZ1A:https:__docs.google.com_spreadsheets_d_1tghhGW2wa4WljNgiWShK-E7ZWkoE-iltCgbs9H9A27Y_edit#gid=495813042\n",
      "The name of the channel with id C05RS3LBMJQ is proj-ediscovery-by-region\n",
      "The name of the channel with id C05TTC0DAJ1 is dev-team\n"
     ]
    }
   ],
   "source": [
    "import pandas as pd\n",
    "\n",
    "# Read the CSV file\n",
    "df = pd.read_csv('../data3/csv/normal1.csv')\n",
    "\n",
    "# Filter the DataFrame to find the channels with id starting with \"C05\" and without NaN values\n",
    "filtered_df = df.loc[pd.notna(df['id']) & df['id'].str.startswith('C05')]\n",
    "\n",
    "# Get the channel ids and names\n",
    "channel_ids = filtered_df['id'].values\n",
    "channel_names = filtered_df['name'].values\n",
    "\n",
    "# Display the names of the channels with their corresponding ids\n",
    "for channel_id, channel_name in zip(channel_ids, channel_names):\n",
    "    print(f\"The name of the channel with id {channel_id} is {channel_name}\")\n"
   ]
  },
  {
   "cell_type": "code",
   "execution_count": 22,
   "metadata": {},
   "outputs": [
    {
     "name": "stderr",
     "output_type": "stream",
     "text": [
      "C:\\Users\\Tedd\\AppData\\Local\\Temp\\ipykernel_15796\\2190468584.py:23: SettingWithCopyWarning: \n",
      "A value is trying to be set on a copy of a slice from a DataFrame.\n",
      "Try using .loc[row_indexer,col_indexer] = value instead\n",
      "\n",
      "See the caveats in the documentation: https://pandas.pydata.org/pandas-docs/stable/user_guide/indexing.html#returning-a-view-versus-a-copy\n",
      "  channels_df['created'] = pd.to_datetime(channels_df['created'], unit='s')\n",
      "C:\\Users\\Tedd\\AppData\\Local\\Temp\\ipykernel_15796\\2190468584.py:26: SettingWithCopyWarning: \n",
      "A value is trying to be set on a copy of a slice from a DataFrame.\n",
      "Try using .loc[row_indexer,col_indexer] = value instead\n",
      "\n",
      "See the caveats in the documentation: https://pandas.pydata.org/pandas-docs/stable/user_guide/indexing.html#returning-a-view-versus-a-copy\n",
      "  channels_df['creator'] = channels_df['creator'].replace(user_id_to_username)\n"
     ]
    },
    {
     "data": {
      "text/html": [
       "<div>\n",
       "<style scoped>\n",
       "    .dataframe tbody tr th:only-of-type {\n",
       "        vertical-align: middle;\n",
       "    }\n",
       "\n",
       "    .dataframe tbody tr th {\n",
       "        vertical-align: top;\n",
       "    }\n",
       "\n",
       "    .dataframe thead th {\n",
       "        text-align: right;\n",
       "    }\n",
       "</style>\n",
       "<table border=\"1\" class=\"dataframe\">\n",
       "  <thead>\n",
       "    <tr style=\"text-align: right;\">\n",
       "      <th></th>\n",
       "      <th>name</th>\n",
       "      <th>is_general</th>\n",
       "      <th>created</th>\n",
       "      <th>creator</th>\n",
       "      <th>members</th>\n",
       "    </tr>\n",
       "  </thead>\n",
       "  <tbody>\n",
       "    <tr>\n",
       "      <th>0</th>\n",
       "      <td>product-management</td>\n",
       "      <td>False</td>\n",
       "      <td>2023-09-10 12:55:26</td>\n",
       "      <td>admin</td>\n",
       "      <td>['U05RA88PCPR', 'U05S28VB3ED', 'U05S28X7ETB', ...</td>\n",
       "    </tr>\n",
       "    <tr>\n",
       "      <th>1</th>\n",
       "      <td>random</td>\n",
       "      <td>False</td>\n",
       "      <td>2023-09-10 12:53:37</td>\n",
       "      <td>admin</td>\n",
       "      <td>['U05RA88PCPR', 'U05S28VB3ED', 'U05S28X7ETB', ...</td>\n",
       "    </tr>\n",
       "    <tr>\n",
       "      <th>2</th>\n",
       "      <td>general</td>\n",
       "      <td>True</td>\n",
       "      <td>2023-09-10 12:53:36</td>\n",
       "      <td>admin</td>\n",
       "      <td>['U05RA88PCPR', 'U05S28VB3ED', 'U05S28X7ETB', ...</td>\n",
       "    </tr>\n",
       "  </tbody>\n",
       "</table>\n",
       "</div>"
      ],
      "text/plain": [
       "                 name  is_general             created creator  \\\n",
       "0  product-management       False 2023-09-10 12:55:26   admin   \n",
       "1              random       False 2023-09-10 12:53:37   admin   \n",
       "2             general        True 2023-09-10 12:53:36   admin   \n",
       "\n",
       "                                             members  \n",
       "0  ['U05RA88PCPR', 'U05S28VB3ED', 'U05S28X7ETB', ...  \n",
       "1  ['U05RA88PCPR', 'U05S28VB3ED', 'U05S28X7ETB', ...  \n",
       "2  ['U05RA88PCPR', 'U05S28VB3ED', 'U05S28X7ETB', ...  "
      ]
     },
     "execution_count": 22,
     "metadata": {},
     "output_type": "execute_result"
    }
   ],
   "source": [
    "import pandas as pd\n",
    "\n",
    "# Load the data from the CSV file\n",
    "df = pd.read_csv('../csv/channels.csv')\n",
    "\n",
    "# Select the required columns\n",
    "required_columns = ['name', 'is_general', 'created', 'creator', 'members']\n",
    "channels_df = df[required_columns]\n",
    "\n",
    "# Create a dictionary mapping user_id to username\n",
    "user_id_to_username = {\n",
    "    \"U05RA88PCPR\": \"sam\",\n",
    "    \"U05S28VB3ED\": \"admin\",\n",
    "    \"U05S28X7ETB\": \"payagude.m\",\n",
    "    \"U05TG4W1YUF\": \"nikhil993477\",\n",
    "    \"U05TQLV3ZC4\": \"satish\",\n",
    "    \"U05TTNUB27P\": \"sajals1146\",\n",
    "    \"U05TZ4E0G5A\": \"shubhangisharma2411\",\n",
    "    \"U05V4DFEHS8\": \"tanushsethi55\"\n",
    "}\n",
    "\n",
    "# Convert the timestamp in the created column to a datetime object\n",
    "channels_df['created'] = pd.to_datetime(channels_df['created'], unit='s')\n",
    "\n",
    "# Replace user_id with username in the creator column\n",
    "channels_df['creator'] = channels_df['creator'].replace(user_id_to_username)\n",
    "# channels_df['members'] = channels_df['members'].apply(lambda members: [user_id_to_username.get(member, member) for member in members])\n",
    "\n",
    "# Display the modified DataFrame\n",
    "channels_df\n",
    "\n"
   ]
  },
  {
   "cell_type": "code",
   "execution_count": 23,
   "metadata": {},
   "outputs": [
    {
     "data": {
      "text/html": [
       "<div>\n",
       "<style scoped>\n",
       "    .dataframe tbody tr th:only-of-type {\n",
       "        vertical-align: middle;\n",
       "    }\n",
       "\n",
       "    .dataframe tbody tr th {\n",
       "        vertical-align: top;\n",
       "    }\n",
       "\n",
       "    .dataframe thead th {\n",
       "        text-align: right;\n",
       "    }\n",
       "</style>\n",
       "<table border=\"1\" class=\"dataframe\">\n",
       "  <thead>\n",
       "    <tr style=\"text-align: right;\">\n",
       "      <th></th>\n",
       "      <th>name</th>\n",
       "      <th>is_general</th>\n",
       "      <th>created</th>\n",
       "      <th>creator</th>\n",
       "      <th>members</th>\n",
       "      <th>member_1</th>\n",
       "      <th>member_2</th>\n",
       "      <th>member_3</th>\n",
       "      <th>member_4</th>\n",
       "      <th>member_5</th>\n",
       "      <th>member_6</th>\n",
       "      <th>member_7</th>\n",
       "    </tr>\n",
       "  </thead>\n",
       "  <tbody>\n",
       "    <tr>\n",
       "      <th>0</th>\n",
       "      <td>product-management</td>\n",
       "      <td>False</td>\n",
       "      <td>2023-09-10 12:55:26</td>\n",
       "      <td>admin</td>\n",
       "      <td>['U05RA88PCPR', 'U05S28VB3ED', 'U05S28X7ETB', ...</td>\n",
       "      <td>U05RA88PCPR</td>\n",
       "      <td>U05S28VB3ED</td>\n",
       "      <td>U05S28X7ETB</td>\n",
       "      <td>U05TG4W1YUF</td>\n",
       "      <td>U05TQLV3ZC4</td>\n",
       "      <td>U05TTNUB27P</td>\n",
       "      <td>U05TZ4E0G5A</td>\n",
       "    </tr>\n",
       "    <tr>\n",
       "      <th>1</th>\n",
       "      <td>random</td>\n",
       "      <td>False</td>\n",
       "      <td>2023-09-10 12:53:37</td>\n",
       "      <td>admin</td>\n",
       "      <td>['U05RA88PCPR', 'U05S28VB3ED', 'U05S28X7ETB', ...</td>\n",
       "      <td>U05RA88PCPR</td>\n",
       "      <td>U05S28VB3ED</td>\n",
       "      <td>U05S28X7ETB</td>\n",
       "      <td>U05TG4W1YUF</td>\n",
       "      <td>U05TQLV3ZC4</td>\n",
       "      <td>U05TTNUB27P</td>\n",
       "      <td>U05TZ4E0G5A</td>\n",
       "    </tr>\n",
       "    <tr>\n",
       "      <th>2</th>\n",
       "      <td>general</td>\n",
       "      <td>True</td>\n",
       "      <td>2023-09-10 12:53:36</td>\n",
       "      <td>admin</td>\n",
       "      <td>['U05RA88PCPR', 'U05S28VB3ED', 'U05S28X7ETB', ...</td>\n",
       "      <td>U05RA88PCPR</td>\n",
       "      <td>U05S28VB3ED</td>\n",
       "      <td>U05S28X7ETB</td>\n",
       "      <td>U05TG4W1YUF</td>\n",
       "      <td>U05TQLV3ZC4</td>\n",
       "      <td>U05TTNUB27P</td>\n",
       "      <td>U05TZ4E0G5A</td>\n",
       "    </tr>\n",
       "  </tbody>\n",
       "</table>\n",
       "</div>"
      ],
      "text/plain": [
       "                 name  is_general             created creator  \\\n",
       "0  product-management       False 2023-09-10 12:55:26   admin   \n",
       "1              random       False 2023-09-10 12:53:37   admin   \n",
       "2             general        True 2023-09-10 12:53:36   admin   \n",
       "\n",
       "                                             members     member_1  \\\n",
       "0  ['U05RA88PCPR', 'U05S28VB3ED', 'U05S28X7ETB', ...  U05RA88PCPR   \n",
       "1  ['U05RA88PCPR', 'U05S28VB3ED', 'U05S28X7ETB', ...  U05RA88PCPR   \n",
       "2  ['U05RA88PCPR', 'U05S28VB3ED', 'U05S28X7ETB', ...  U05RA88PCPR   \n",
       "\n",
       "       member_2      member_3      member_4      member_5      member_6  \\\n",
       "0   U05S28VB3ED   U05S28X7ETB   U05TG4W1YUF   U05TQLV3ZC4   U05TTNUB27P   \n",
       "1   U05S28VB3ED   U05S28X7ETB   U05TG4W1YUF   U05TQLV3ZC4   U05TTNUB27P   \n",
       "2   U05S28VB3ED   U05S28X7ETB   U05TG4W1YUF   U05TQLV3ZC4   U05TTNUB27P   \n",
       "\n",
       "       member_7  \n",
       "0   U05TZ4E0G5A  \n",
       "1   U05TZ4E0G5A  \n",
       "2   U05TZ4E0G5A  "
      ]
     },
     "execution_count": 23,
     "metadata": {},
     "output_type": "execute_result"
    }
   ],
   "source": [
    "# Divide each user in the 'members' column into different columns\n",
    "members_df = channels_df['members'].str.split(',', expand=True)\n",
    "members_df = members_df.replace({',':'', '\\[':'', '\\]':'', '\\'':''}, regex=True)\n",
    "\n",
    "# Rename the columns\n",
    "members_df.columns = [f\"member_{i+1}\" for i in range(members_df.shape[1])]\n",
    "\n",
    "# Concatenate the original DataFrame with the new columns\n",
    "channels_df = pd.concat([channels_df, members_df], axis=1)\n",
    "\n",
    "# Display the modified DataFrame\n",
    "channels_df\n"
   ]
  },
  {
   "cell_type": "code",
   "execution_count": 40,
   "metadata": {},
   "outputs": [],
   "source": [
    "dms_df = pd.read_csv('../csv2/dms.csv')\n",
    "\n",
    "# Divide each user in the 'members' column into different columns\n",
    "members_df = dms_df['members'].str.split(',', expand=True)\n",
    "members_df = members_df.replace({',':'', '\\[':'', '\\]':'', '\\'':''}, regex=True)\n",
    "\n",
    "# Rename the columns\n",
    "members_df.columns = [f\"member_{i+1}\" for i in range(members_df.shape[1])]\n",
    "members_df['member_2'] = members_df['member_2'].str.replace(' ', '')\n",
    "members_df = members_df.replace(user_id_to_username)\n",
    "\n",
    "# Concatenate the original DataFrame with the new columns\n",
    "dms_df = pd.concat([dms_df, members_df], axis=1)\n",
    "\n",
    "# # rename user id with username\n",
    "# for column in dms_df.columns:\n",
    "#     if column.startswith('member_'):\n",
    "#         dms_df[column] = dms_df[column].replace(user_id_to_username)\n",
    "\n",
    "# Display the modified DataFrame\n",
    "dms_df.to_csv('../processed_data/dms_output.csv', index=False)"
   ]
  },
  {
   "cell_type": "code",
   "execution_count": 32,
   "metadata": {},
   "outputs": [
    {
     "name": "stdout",
     "output_type": "stream",
     "text": [
      "member_1\n",
      "member_2\n"
     ]
    }
   ],
   "source": []
  },
  {
   "cell_type": "code",
   "execution_count": 34,
   "metadata": {},
   "outputs": [
    {
     "data": {
      "text/plain": [
       "0      U05S28X7ETB\n",
       "1      U05S28VB3ED\n",
       "2      U05S28X7ETB\n",
       "3      U05S28X7ETB\n",
       "4      U05TTNUB27P\n",
       "5      U05TZ4E0G5A\n",
       "6      U05TQLV3ZC4\n",
       "7      U05TQLV3ZC4\n",
       "8      U05TQLV3ZC4\n",
       "9      U05TTNUB27P\n",
       "10     U05TG4W1YUF\n",
       "11     U05TQLV3ZC4\n",
       "12     U05TG4W1YUF\n",
       "13     U05TZ4E0G5A\n",
       "14     U05TZ4E0G5A\n",
       "15     U05TTNUB27P\n",
       "16     U05TTNUB27P\n",
       "17     U05TTNUB27P\n",
       "18     U05TZ4E0G5A\n",
       "19     U05TTNUB27P\n",
       "20     U05TG4W1YUF\n",
       "21       USLACKBOT\n",
       "22     U05TZ4E0G5A\n",
       "23     U05TG4W1YUF\n",
       "Name: member_2, dtype: object"
      ]
     },
     "execution_count": 34,
     "metadata": {},
     "output_type": "execute_result"
    }
   ],
   "source": []
  },
  {
   "cell_type": "code",
   "execution_count": null,
   "metadata": {},
   "outputs": [],
   "source": []
  }
 ],
 "metadata": {
  "kernelspec": {
   "display_name": "Python 3",
   "language": "python",
   "name": "python3"
  },
  "language_info": {
   "codemirror_mode": {
    "name": "ipython",
    "version": 3
   },
   "file_extension": ".py",
   "mimetype": "text/x-python",
   "name": "python",
   "nbconvert_exporter": "python",
   "pygments_lexer": "ipython3",
   "version": "3.9.13"
  }
 },
 "nbformat": 4,
 "nbformat_minor": 2
}
