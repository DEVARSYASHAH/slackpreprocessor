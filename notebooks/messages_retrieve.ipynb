{
 "cells": [
  {
   "cell_type": "code",
   "execution_count": 1,
   "metadata": {},
   "outputs": [
    {
     "name": "stdout",
     "output_type": "stream",
     "text": [
      "CSV files merged successfully!\n"
     ]
    }
   ],
   "source": [
    "import os\n",
    "import pandas as pd\n",
    "\n",
    "def merge_csv_files():\n",
    "    # Take user input for usernames\n",
    "    username1 = input(\"Enter username 1: \")\n",
    "    username2 = input(\"Enter username 2: \")\n",
    "\n",
    "    # Read the dms_output.csv file\n",
    "    dms_data = pd.read_csv('../processed_data/dms_output.csv')\n",
    "\n",
    "    # Filter the data based on the usernames\n",
    "    filtered_data = dms_data[(dms_data['member_1'] == username1) & (dms_data['member_2'] == username2)]\n",
    "\n",
    "    if filtered_data.empty:\n",
    "        print(\"No matching records found\")\n",
    "        return\n",
    "\n",
    "    # Get the folder name from the id column of the matched record\n",
    "    folder_name = filtered_data.iloc[0]['id']\n",
    "\n",
    "    # Search for the folder with the same name\n",
    "    folder_path = None\n",
    "    for root, dirs, files in os.walk('../csv2/'):\n",
    "        if folder_name in dirs:\n",
    "            folder_path = os.path.join(root, folder_name)\n",
    "            break\n",
    "\n",
    "    if folder_path is None:\n",
    "        print(\"Folder not found\")\n",
    "        return\n",
    "    # Merge all the CSV files in the folder\n",
    "    merged_data = pd.DataFrame()\n",
    "    for file in os.listdir(folder_path):\n",
    "        if file.endswith('.csv'):\n",
    "            file_path = os.path.join(folder_path, file)\n",
    "            df = pd.read_csv(file_path, usecols=[\"user\", \"text\", \"type\", \"ts\"])\n",
    "            df['ts'] = pd.to_datetime(df['ts'], unit='s')  # Convert ts column to human-readable timestamp\n",
    "            merged_data = pd.concat([merged_data, df])\n",
    "\n",
    "    # Save the merged data to a new CSV file\n",
    "    merged_data.to_csv('merged_conversations.csv', index=False)\n",
    "    print(\"CSV files merged successfully!\")\n",
    "\n",
    "# Usage example\n",
    "merge_csv_files()\n"
   ]
  },
  {
   "cell_type": "code",
   "execution_count": 3,
   "metadata": {},
   "outputs": [],
   "source": [
    "user_id_to_username = {\n",
    "    \"U05RA88PCPR\": \"sam\",\n",
    "    \"U05S28VB3ED\": \"admin\",\n",
    "    \"U05S28X7ETB\": \"payagude.m\",\n",
    "    \"U05TG4W1YUF\": \"nikhil993477\",\n",
    "    \"U05TQLV3ZC4\": \"satish\",\n",
    "    \"U05TTNUB27P\": \"sajals1146\",\n",
    "    \"U05TZ4E0G5A\": \"shubhangisharma2411\",\n",
    "    \"U05V4DFEHS8\": \"tanushsethi55\"\n",
    "}"
   ]
  },
  {
   "cell_type": "code",
   "execution_count": 6,
   "metadata": {},
   "outputs": [
    {
     "name": "stdout",
     "output_type": "stream",
     "text": [
      "Empty DataFrame\n",
      "Columns: [user, text, type, ts]\n",
      "Index: []\n"
     ]
    }
   ],
   "source": [
    "import pandas as pd\n",
    "\n",
    "# Read the merged_msg.csv file\n",
    "merged_data = pd.read_csv('merged_msg.csv')\n",
    "\n",
    "# Take user input for username\n",
    "username = input(\"Enter username: \")\n",
    "\n",
    "# Replace user_id with username in user column\n",
    "merged_data['user'] = merged_data['user'].replace(user_id_to_username)\n",
    "\n",
    "# Filter the data based on the username\n",
    "filtered_data = merged_data[merged_data['user'] == username]\n",
    "\n",
    "# Print the filtered messages\n",
    "print(filtered_data)\n"
   ]
  },
  {
   "cell_type": "code",
   "execution_count": null,
   "metadata": {},
   "outputs": [],
   "source": []
  }
 ],
 "metadata": {
  "kernelspec": {
   "display_name": "Python 3",
   "language": "python",
   "name": "python3"
  },
  "language_info": {
   "codemirror_mode": {
    "name": "ipython",
    "version": 3
   },
   "file_extension": ".py",
   "mimetype": "text/x-python",
   "name": "python",
   "nbconvert_exporter": "python",
   "pygments_lexer": "ipython3",
   "version": "3.9.13"
  }
 },
 "nbformat": 4,
 "nbformat_minor": 2
}
